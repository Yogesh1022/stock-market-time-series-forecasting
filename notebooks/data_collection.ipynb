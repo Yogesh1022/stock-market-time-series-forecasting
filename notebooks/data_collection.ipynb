{
 "cells": [
  {
   "cell_type": "markdown",
   "id": "7cb07d6a",
   "metadata": {},
   "source": [
    "\n",
    "  Data Collection\n",
    " "
   ]
  },
  {
   "cell_type": "markdown",
   "id": "c18e694a",
   "metadata": {},
   "source": [
    "This notebook collects historical stock market data using the yfinance library."
   ]
  },
  {
   "cell_type": "code",
   "execution_count": 9,
   "id": "d1fa9747",
   "metadata": {
    "vscode": {
     "languageId": "plaintext"
    }
   },
   "outputs": [
    {
     "name": "stdout",
     "output_type": "stream",
     "text": [
      "Requirement already satisfied: yfinance in c:\\users\\asus\\anaconda3\\lib\\site-packages (0.2.61)\n",
      "Requirement already satisfied: pandas>=1.3.0 in c:\\users\\asus\\anaconda3\\lib\\site-packages (from yfinance) (2.0.3)\n",
      "Requirement already satisfied: numpy>=1.16.5 in c:\\users\\asus\\anaconda3\\lib\\site-packages (from yfinance) (1.26.4)\n",
      "Requirement already satisfied: requests>=2.31 in c:\\users\\asus\\anaconda3\\lib\\site-packages (from yfinance) (2.31.0)\n",
      "Requirement already satisfied: multitasking>=0.0.7 in c:\\users\\asus\\anaconda3\\lib\\site-packages (from yfinance) (0.0.11)\n",
      "Requirement already satisfied: platformdirs>=2.0.0 in c:\\users\\asus\\anaconda3\\lib\\site-packages (from yfinance) (3.10.0)\n",
      "Requirement already satisfied: pytz>=2022.5 in c:\\users\\asus\\anaconda3\\lib\\site-packages (from yfinance) (2023.3.post1)\n",
      "Requirement already satisfied: frozendict>=2.3.4 in c:\\users\\asus\\anaconda3\\lib\\site-packages (from yfinance) (2.4.6)\n",
      "Requirement already satisfied: peewee>=3.16.2 in c:\\users\\asus\\anaconda3\\lib\\site-packages (from yfinance) (3.18.1)\n",
      "Requirement already satisfied: beautifulsoup4>=4.11.1 in c:\\users\\asus\\anaconda3\\lib\\site-packages (from yfinance) (4.12.2)\n",
      "Requirement already satisfied: curl_cffi>=0.7 in c:\\users\\asus\\anaconda3\\lib\\site-packages (from yfinance) (0.11.2)\n",
      "Requirement already satisfied: protobuf>=3.19.0 in c:\\users\\asus\\anaconda3\\lib\\site-packages (from yfinance) (5.29.5)\n",
      "Requirement already satisfied: websockets>=13.0 in c:\\users\\asus\\anaconda3\\lib\\site-packages (from yfinance) (15.0.1)\n",
      "Requirement already satisfied: soupsieve>1.2 in c:\\users\\asus\\anaconda3\\lib\\site-packages (from beautifulsoup4>=4.11.1->yfinance) (2.4)\n",
      "Requirement already satisfied: cffi>=1.12.0 in c:\\users\\asus\\anaconda3\\lib\\site-packages (from curl_cffi>=0.7->yfinance) (1.15.1)\n",
      "Requirement already satisfied: certifi>=2024.2.2 in c:\\users\\asus\\anaconda3\\lib\\site-packages (from curl_cffi>=0.7->yfinance) (2025.4.26)\n",
      "Requirement already satisfied: python-dateutil>=2.8.2 in c:\\users\\asus\\anaconda3\\lib\\site-packages (from pandas>=1.3.0->yfinance) (2.8.2)\n",
      "Requirement already satisfied: tzdata>=2022.1 in c:\\users\\asus\\anaconda3\\lib\\site-packages (from pandas>=1.3.0->yfinance) (2023.3)\n",
      "Requirement already satisfied: charset-normalizer<4,>=2 in c:\\users\\asus\\anaconda3\\lib\\site-packages (from requests>=2.31->yfinance) (2.0.4)\n",
      "Requirement already satisfied: idna<4,>=2.5 in c:\\users\\asus\\anaconda3\\lib\\site-packages (from requests>=2.31->yfinance) (3.4)\n",
      "Requirement already satisfied: urllib3<3,>=1.21.1 in c:\\users\\asus\\anaconda3\\lib\\site-packages (from requests>=2.31->yfinance) (2.4.0)\n",
      "Requirement already satisfied: pycparser in c:\\users\\asus\\anaconda3\\lib\\site-packages (from cffi>=1.12.0->curl_cffi>=0.7->yfinance) (2.21)\n",
      "Requirement already satisfied: six>=1.5 in c:\\users\\asus\\anaconda3\\lib\\site-packages (from python-dateutil>=2.8.2->pandas>=1.3.0->yfinance) (1.16.0)\n",
      "Note: you may need to restart the kernel to use updated packages.\n"
     ]
    }
   ],
   "source": [
    "pip install yfinance\n"
   ]
  },
  {
   "cell_type": "markdown",
   "id": "931ba9a9",
   "metadata": {},
   "source": [
    " Define Parameters\n",
    " Specify the stock ticker and date range"
   ]
  },
  {
   "cell_type": "code",
   "execution_count": 10,
   "id": "7050ba05",
   "metadata": {},
   "outputs": [],
   "source": [
    "import yfinance as yf\n",
    "import pandas as pd\n",
    "import os"
   ]
  },
  {
   "cell_type": "code",
   "execution_count": 13,
   "id": "2df6b0c7",
   "metadata": {},
   "outputs": [],
   "source": [
    "ticker = \"AAPL\"  # Apple Inc.\n",
    "start_date = \"2020-01-01\"\n",
    "end_date = \"2025-01-01\""
   ]
  },
  {
   "cell_type": "markdown",
   "id": "f935de5d",
   "metadata": {},
   "source": [
    "Download Data\n",
    " Use yfinance to download stock data.\n"
   ]
  },
  {
   "cell_type": "code",
   "execution_count": 14,
   "id": "f94a2d66",
   "metadata": {},
   "outputs": [
    {
     "name": "stderr",
     "output_type": "stream",
     "text": [
      "\r",
      "[*********************100%***********************]  1 of 1 completed"
     ]
    },
    {
     "name": "stdout",
     "output_type": "stream",
     "text": [
      "Price           Close       High        Low       Open     Volume\n",
      "Ticker           AAPL       AAPL       AAPL       AAPL       AAPL\n",
      "Date                                                             \n",
      "2020-01-02  72.620850  72.681296  71.373226  71.627100  135480400\n",
      "2020-01-03  71.914818  72.676447  71.689957  71.847118  146322800\n",
      "2020-01-06  72.487839  72.526526  70.783241  71.034702  118387200\n",
      "2020-01-07  72.146927  72.753808  71.926900  72.497514  108872000\n",
      "2020-01-08  73.307526  73.609760  71.849548  71.849548  132079200\n"
     ]
    },
    {
     "name": "stderr",
     "output_type": "stream",
     "text": [
      "\n"
     ]
    }
   ],
   "source": [
    "data = yf.download(ticker, start=start_date, end=end_date)\n",
    "print(data.head())"
   ]
  },
  {
   "cell_type": "markdown",
   "id": "9e1b7f86",
   "metadata": {},
   "source": [
    " Save Raw Data\n",
    " Save the data to the raw_data directory."
   ]
  },
  {
   "cell_type": "code",
   "execution_count": 15,
   "id": "6843a864",
   "metadata": {},
   "outputs": [
    {
     "name": "stdout",
     "output_type": "stream",
     "text": [
      "Data saved to ../data/raw_data/AAPL.csv\n"
     ]
    }
   ],
   "source": [
    "raw_data_dir = \"../data/raw_data\"\n",
    "os.makedirs(raw_data_dir, exist_ok=True)\n",
    "data.to_csv(f\"{raw_data_dir}/{ticker}.csv\")\n",
    "print(f\"Data saved to {raw_data_dir}/{ticker}.csv\")"
   ]
  },
  {
   "cell_type": "code",
   "execution_count": 16,
   "id": "423da752",
   "metadata": {},
   "outputs": [
    {
     "name": "stdout",
     "output_type": "stream",
     "text": [
      "Missing values:\n",
      " Price   Ticker\n",
      "Close   AAPL      0\n",
      "High    AAPL      0\n",
      "Low     AAPL      0\n",
      "Open    AAPL      0\n",
      "Volume  AAPL      0\n",
      "dtype: int64\n",
      "\n",
      "Data types:\n",
      " Price   Ticker\n",
      "Close   AAPL      float64\n",
      "High    AAPL      float64\n",
      "Low     AAPL      float64\n",
      "Open    AAPL      float64\n",
      "Volume  AAPL        int64\n",
      "dtype: object\n"
     ]
    }
   ],
   "source": [
    "print(\"Missing values:\\n\", data.isnull().sum())\n",
    "print(\"\\nData types:\\n\", data.dtypes)\n"
   ]
  }
 ],
 "metadata": {
  "kernelspec": {
   "display_name": "Python 3 (ipykernel)",
   "language": "python",
   "name": "python3"
  },
  "language_info": {
   "codemirror_mode": {
    "name": "ipython",
    "version": 3
   },
   "file_extension": ".py",
   "mimetype": "text/x-python",
   "name": "python",
   "nbconvert_exporter": "python",
   "pygments_lexer": "ipython3",
   "version": "3.11.5"
  }
 },
 "nbformat": 4,
 "nbformat_minor": 5
}
